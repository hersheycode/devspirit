{
 "cells": [
  {
   "cell_type": "code",
   "execution_count": 1,
   "metadata": {},
   "outputs": [],
   "source": [
    "import pydgraph\n",
    "\n",
    "def create_client():\n",
    "    stub = pydgraph.DgraphClientStub('10.0.0.186:9200')\n",
    "    return pydgraph.DgraphClient(stub)\n",
    "\n",
    "\n",
    "client = create_client()"
   ]
  },
  {
   "cell_type": "code",
   "execution_count": 2,
   "metadata": {},
   "outputs": [],
   "source": [
    "def drop_all():\n",
    "    return client.alter(pydgraph.Operation(drop_all=True))\n",
    "\n",
    "def set_schema(schema):\n",
    "    return client.alter(pydgraph.Operation(schema=schema))\n",
    "\n",
    "def reset(file_locs):\n",
    "    drop_all()\n",
    "    schema = \"\"\n",
    "    for name in file_locs:\n",
    "        with open(f\"./{name}.schema\") as file:\n",
    "            schema += \"\\n\" + file.read() + \"\\n\"\n",
    "\n",
    "    set_schema(schema)\n",
    "\n",
    "file_locs = [\n",
    "        \"User/predicates\", \n",
    "        \"User/types\",\n",
    "    ]      \n",
    "\n",
    "reset(file_locs)"
   ]
  },
  {
   "cell_type": "code",
   "execution_count": null,
   "metadata": {},
   "outputs": [],
   "source": []
  }
 ],
 "metadata": {
  "kernelspec": {
   "display_name": "base",
   "language": "python",
   "name": "python3"
  },
  "language_info": {
   "codemirror_mode": {
    "name": "ipython",
    "version": 3
   },
   "file_extension": ".py",
   "mimetype": "text/x-python",
   "name": "python",
   "nbconvert_exporter": "python",
   "pygments_lexer": "ipython3",
   "version": "3.9.7"
  },
  "orig_nbformat": 4,
  "vscode": {
   "interpreter": {
    "hash": "d4d1e4263499bec80672ea0156c357c1ee493ec2b1c70f0acce89fc37c4a6abe"
   }
  }
 },
 "nbformat": 4,
 "nbformat_minor": 2
}
